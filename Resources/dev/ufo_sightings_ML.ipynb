{
 "cells": [
  {
   "cell_type": "code",
   "execution_count": null,
   "id": "b16ea90e",
   "metadata": {},
   "outputs": [],
   "source": [
    "import pandas as pd\n",
    "from pathlib import Path\n",
    "from sklearn.preprocessing import StandardScaler\n",
    "from sklearn.decomposition import PCA\n",
    "from sklearn.cluster import KMeans\n",
    "import matplotlib.pyplot as plt"
   ]
  },
  {
   "cell_type": "code",
   "execution_count": null,
   "id": "7fc98b8d",
   "metadata": {},
   "outputs": [],
   "source": [
    "# Loading the ufo data\n",
    "file_path = Path(\"../Resources/ufo_data_cleaned4.csv\")\n",
    "df_ufo = pd.read_csv(file_path)\n",
    "df_ufo.head()"
   ]
  },
  {
   "cell_type": "code",
   "execution_count": null,
   "id": "32e57637",
   "metadata": {},
   "outputs": [],
   "source": [
    "# Standardize data with StandardScaler\n",
    "ufo_scaled = StandardScaler().fit_transform(df_ufo)\n",
    "print(ufo_scaled[0:5])"
   ]
  },
  {
   "cell_type": "code",
   "execution_count": null,
   "id": "2f0431b7",
   "metadata": {},
   "outputs": [],
   "source": [
    "# Applying PCA to reduce dimensions from 4 to 2\n",
    "\n",
    "# Initialize PCA model\n",
    "pca = PCA(n_components=2)\n",
    "\n",
    "# Get two principal components for the ufo data\n",
    "ufo_pca = pca.fit_transform(ufo_scaled)"
   ]
  },
  {
   "cell_type": "code",
   "execution_count": null,
   "id": "876d2128",
   "metadata": {},
   "outputs": [],
   "source": [
    "ufo_scaled.shape"
   ]
  },
  {
   "cell_type": "code",
   "execution_count": null,
   "id": "fa39490f",
   "metadata": {},
   "outputs": [],
   "source": [
    "ufo_pca.shape"
   ]
  },
  {
   "cell_type": "code",
   "execution_count": null,
   "id": "20156ccd",
   "metadata": {},
   "outputs": [],
   "source": [
    "# Transform PCA data to a Dataframe\n",
    "df_ufo_pca = pd.DataFrame(\n",
    "    data=ufo_pca, columns=[\"principal component 1\", \"principal component 2\"]\n",
    ")\n",
    "df_ufo_pca.head()"
   ]
  },
  {
   "cell_type": "code",
   "execution_count": null,
   "id": "a4f0bfda",
   "metadata": {},
   "outputs": [],
   "source": [
    "# Explained variance\n",
    "pca.explained_variance_ratio_"
   ]
  },
  {
   "cell_type": "code",
   "execution_count": null,
   "id": "cec85c6d",
   "metadata": {},
   "outputs": [],
   "source": [
    "#Finding the best value for k\n",
    "inertia = []\n",
    "k = list(range(1,11))\n",
    "\n",
    "# Calculate the inertia for the range of k values\n",
    "for i in k:\n",
    "    km = KMeans(n_clusters=i, random_state=0)\n",
    "    km.fit(df_ufo_pca)\n",
    "    inertia.append(km.inertia_)\n",
    "\n",
    "# Creating the Elbow Curve\n",
    "elbow_data = {\"k\": k, \"inertia\": inertia}\n",
    "df_elbow = pd.DataFrame(elbow_data)\n",
    "\n",
    "plt.plot(df_elbow['k'], df_elbow['inertia'])\n",
    "plt.xticks(list(range(13)))\n",
    "plt.title('Elbow Curve')\n",
    "plt.xlabel('Number of clusters')\n",
    "plt.ylabel('Inertia')\n",
    "plt.show()"
   ]
  },
  {
   "cell_type": "code",
   "execution_count": null,
   "id": "6e7bd8a6",
   "metadata": {},
   "outputs": [],
   "source": [
    "# Predicting clusters with k=3\n",
    "\n",
    "# Initialize the k-means model\n",
    "model = KMeans(n_clusters=3, random_state=0)\n",
    "\n",
    "# Fit the model\n",
    "model.fit(df_ufo_pca)\n",
    "\n",
    "# Predict clusters\n",
    "predictions = model.predict(df_ufo_pca)\n",
    "\n",
    "# Add the predicted class column to the dataframe\n",
    "df_ufo_pca[\"class\"] = model.labels_\n",
    "df_ufo_pca.head()"
   ]
  },
  {
   "cell_type": "code",
   "execution_count": null,
   "id": "10cd27fa",
   "metadata": {},
   "outputs": [],
   "source": [
    "# Visualize the clusters\n",
    "plt.scatter(x=df_ufo_pca['principal component 1'], y=df_ufo_pca['principal component 2'], c=df_ufo_pca['class'])\n",
    "plt.xlabel('Principal component 1')\n",
    "plt.ylabel('Principal component 2')\n",
    "plt.title('UFO clusters')\n",
    "plt.show()"
   ]
  },
  {
   "cell_type": "code",
   "execution_count": null,
   "id": "ec2f0134",
   "metadata": {},
   "outputs": [],
   "source": []
  },
  {
   "cell_type": "code",
   "execution_count": null,
   "id": "6f648ad0",
   "metadata": {},
   "outputs": [],
   "source": []
  }
 ],
 "metadata": {
  "kernelspec": {
   "display_name": "Python 3 (ipykernel)",
   "language": "python",
   "name": "python3"
  },
  "language_info": {
   "codemirror_mode": {
    "name": "ipython",
    "version": 3
   },
   "file_extension": ".py",
   "mimetype": "text/x-python",
   "name": "python",
   "nbconvert_exporter": "python",
   "pygments_lexer": "ipython3",
   "version": "3.7.13"
  }
 },
 "nbformat": 4,
 "nbformat_minor": 5
}
